{
  "nbformat": 4,
  "nbformat_minor": 0,
  "metadata": {
    "colab": {
      "name": "TASK IV",
      "provenance": [],
      "authorship_tag": "ABX9TyM2sMUI+ARfTet5XrMJfskx",
      "include_colab_link": true
    },
    "kernelspec": {
      "name": "python3",
      "display_name": "Python 3"
    },
    "language_info": {
      "name": "python"
    }
  },
  "cells": [
    {
      "cell_type": "markdown",
      "metadata": {
        "id": "view-in-github",
        "colab_type": "text"
      },
      "source": [
        "<a href=\"https://colab.research.google.com/github/lokesh4666/DART-/blob/main/TASK_IV.ipynb\" target=\"_parent\"><img src=\"https://colab.research.google.com/assets/colab-badge.svg\" alt=\"Open In Colab\"/></a>"
      ]
    },
    {
      "cell_type": "code",
      "metadata": {
        "colab": {
          "base_uri": "https://localhost:8080/"
        },
        "id": "sxsGpA2SKO57",
        "outputId": "63355467-09c1-430f-a631-a8b5cb520245"
      },
      "source": [
        "'''Python supports automatic garbage collection so deallocation of memory\n",
        "is done implicitly. However to force it to deallocate each node after use,\n",
        "add the following code:\n",
        "\n",
        "\timport gc\t\t #added at the start of program\n",
        "\tgc.collect()\t #to be added wherever memory is to be deallocated\n",
        "'''\n",
        "\n",
        "class Node:\n",
        "\t\n",
        "\t# Class to create nodes of linked list\n",
        "\t# constructor initializes node automatically\n",
        "\tdef __init__(self,data):\n",
        "\t\tself.data = data\n",
        "\t\tself.next = None\n",
        "\t\n",
        "class Stack:\n",
        "\t\n",
        "\t# head is default NULL\n",
        "\tdef __init__(self):\n",
        "\t\tself.head = None\n",
        "\t\n",
        "\t# Checks if stack is empty\n",
        "\tdef isempty(self):\n",
        "\t\tif self.head == None:\n",
        "\t\t\treturn True\n",
        "\t\telse:\n",
        "\t\t\treturn False\n",
        "\t\n",
        "\t# Method to add data to the stack\n",
        "\t# adds to the start of the stack\n",
        "\tdef push(self,data):\n",
        "\t\t\n",
        "\t\tif self.head == None:\n",
        "\t\t\tself.head=Node(data)\n",
        "\t\t\t\n",
        "\t\telse:\n",
        "\t\t\tnewnode = Node(data)\n",
        "\t\t\tnewnode.next = self.head\n",
        "\t\t\tself.head = newnode\n",
        "\t\n",
        "\t# Remove element that is the current head (start of the stack)\n",
        "\tdef pop(self):\n",
        "\t\t\n",
        "\t\tif self.isempty():\n",
        "\t\t\treturn None\n",
        "\t\t\t\n",
        "\t\telse:\n",
        "\t\t\t# Removes the head node and makes\n",
        "\t\t\t#the preceeding one the new head\n",
        "\t\t\tpoppednode = self.head\n",
        "\t\t\tself.head = self.head.next\n",
        "\t\t\tpoppednode.next = None\n",
        "\t\t\treturn poppednode.data\n",
        "\t\n",
        "\t# Returns the head node data\n",
        "\tdef peek(self):\n",
        "\t\t\n",
        "\t\tif self.isempty():\n",
        "\t\t\treturn None\n",
        "\t\t\t\n",
        "\t\telse:\n",
        "\t\t\treturn self.head.data\n",
        "\t\n",
        "\t# Prints out the stack\t\n",
        "\tdef display(self):\n",
        "\t\t\n",
        "\t\titernode = self.head\n",
        "\t\tif self.isempty():\n",
        "\t\t\tprint(\"Stack Underflow\")\n",
        "\t\t\n",
        "\t\telse:\n",
        "\t\t\t\n",
        "\t\t\twhile(iternode != None):\n",
        "\t\t\t\t\n",
        "\t\t\t\tprint(iternode.data,\"->\",end = \" \")\n",
        "\t\t\t\titernode = iternode.next\n",
        "\t\t\treturn\n",
        "\t\t\n",
        "# Driver code\n",
        "MyStack = Stack()\n",
        "\n",
        "MyStack.push(11)\n",
        "MyStack.push(22)\n",
        "MyStack.push(33)\n",
        "MyStack.push(44)\n",
        "\n",
        "# Display stack elements\n",
        "MyStack.display()\n",
        "\n",
        "# Print top element of stack\n",
        "print(\"\\nTop element is \",MyStack.peek())\n",
        "\n",
        "# Delete top elements of stack\n",
        "MyStack.pop()\n",
        "MyStack.pop()\n",
        "\n",
        "# Display stack elements\n",
        "MyStack.display()\n",
        "\n",
        "# Print top element of stack\n",
        "print(\"\\nTop element is \", MyStack.peek())\n",
        "\n",
        "# This code is contributed by Mathew George\n"
      ],
      "execution_count": 1,
      "outputs": [
        {
          "output_type": "stream",
          "name": "stdout",
          "text": [
            "44 -> 33 -> 22 -> 11 -> \n",
            "Top element is  44\n",
            "22 -> 11 -> \n",
            "Top element is  22\n"
          ]
        }
      ]
    },
    {
      "cell_type": "code",
      "metadata": {
        "colab": {
          "base_uri": "https://localhost:8080/"
        },
        "id": "eN-rNjLUKtku",
        "outputId": "c21c83d1-8c53-44a3-d8b3-4f4b3ebe8c07"
      },
      "source": [
        "class Rectangle():\n",
        "    def __init__(self, l, w):\n",
        "        self.length = l\n",
        "        self.width  = w\n",
        "\n",
        "    def rectangle_area(self):\n",
        "        return self.length*self.width\n",
        "\n",
        "newRectangle = Rectangle(12, 10)\n",
        "print(newRectangle.rectangle_area())\n"
      ],
      "execution_count": 2,
      "outputs": [
        {
          "output_type": "stream",
          "name": "stdout",
          "text": [
            "120\n"
          ]
        }
      ]
    },
    {
      "cell_type": "code",
      "metadata": {
        "colab": {
          "base_uri": "https://localhost:8080/"
        },
        "id": "erZL6Ww3LBso",
        "outputId": "cafd9e11-6336-42b9-e472-6f7ab9624a11"
      },
      "source": [
        "class Queue:\n",
        "\n",
        "    def __init__(self):\n",
        "        self.queue = []\n",
        "\n",
        "    # Add an element\n",
        "    def enqueue(self, item):\n",
        "        self.queue.append(item)\n",
        "\n",
        "    # Remove an element\n",
        "    def dequeue(self):\n",
        "        if len(self.queue) < 1:\n",
        "            return None\n",
        "        return self.queue.pop(0)\n",
        "\n",
        "    # Display  the queue\n",
        "    def display(self):\n",
        "        print(self.queue)\n",
        "\n",
        "    def size(self):\n",
        "        return len(self.queue)\n",
        "\n",
        "\n",
        "q = Queue()\n",
        "q.enqueue(1)\n",
        "q.enqueue(2)\n",
        "q.enqueue(3)\n",
        "q.enqueue(4)\n",
        "q.enqueue(5)\n",
        "\n",
        "q.display()\n",
        "\n",
        "q.dequeue()\n",
        "\n",
        "print(\"After removing an element\")\n",
        "q.display()\n"
      ],
      "execution_count": 3,
      "outputs": [
        {
          "output_type": "stream",
          "name": "stdout",
          "text": [
            "[1, 2, 3, 4, 5]\n",
            "After removing an element\n",
            "[2, 3, 4, 5]\n"
          ]
        }
      ]
    }
  ]
}